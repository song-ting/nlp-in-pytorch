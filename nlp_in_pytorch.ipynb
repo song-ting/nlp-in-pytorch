{
 "cells": [
  {
   "cell_type": "code",
   "execution_count": 1,
   "metadata": {},
   "outputs": [
    {
     "data": {
      "text/plain": [
       "<torch._C.Generator at 0x7f1e0414f4e0>"
      ]
     },
     "execution_count": 1,
     "metadata": {},
     "output_type": "execute_result"
    }
   ],
   "source": [
    "import torch\n",
    "import torch.autograd as autograd\n",
    "import torch.nn as nn\n",
    "import torch.nn.functional as F\n",
    "import torch.optim as optim\n",
    "\n",
    "torch.manual_seed(1)"
   ]
  },
  {
   "cell_type": "code",
   "execution_count": 2,
   "metadata": {},
   "outputs": [
    {
     "name": "stdout",
     "output_type": "stream",
     "text": [
      "Variable containing:\n",
      " 0.3130  0.2576  1.3546\n",
      " 1.0007  0.6433  0.4951\n",
      "[torch.FloatTensor of size 2x3]\n",
      "\n"
     ]
    }
   ],
   "source": [
    "lin = nn.Linear(5, 3) # maps x from R^5 to R^3\n",
    "data = autograd.Variable(torch.randn(2, 5)) # shape (2, 5)\n",
    "print(lin(data)) # shape (2, 3)"
   ]
  },
  {
   "cell_type": "code",
   "execution_count": 3,
   "metadata": {},
   "outputs": [
    {
     "name": "stdout",
     "output_type": "stream",
     "text": [
      "Variable containing:\n",
      " 1.2182  0.2117\n",
      "-1.0613 -1.9441\n",
      "[torch.FloatTensor of size 2x2]\n",
      "\n",
      "Variable containing:\n",
      " 1.2182  0.2117\n",
      " 0.0000  0.0000\n",
      "[torch.FloatTensor of size 2x2]\n",
      "\n"
     ]
    }
   ],
   "source": [
    "data = autograd.Variable(torch.randn(2, 2)) # shape(2, 2)\n",
    "print(data)\n",
    "print(F.relu(data))"
   ]
  },
  {
   "cell_type": "code",
   "execution_count": 4,
   "metadata": {},
   "outputs": [
    {
     "name": "stdout",
     "output_type": "stream",
     "text": [
      "Variable containing:\n",
      "-0.9596\n",
      " 0.5489\n",
      "-0.9901\n",
      "-0.3826\n",
      " 1.5037\n",
      "[torch.FloatTensor of size 5]\n",
      "\n",
      "Variable containing:\n",
      " 0.0500\n",
      " 0.2258\n",
      " 0.0485\n",
      " 0.0890\n",
      " 0.5868\n",
      "[torch.FloatTensor of size 5]\n",
      "\n",
      "Variable containing:\n",
      " 1\n",
      "[torch.FloatTensor of size 1]\n",
      "\n",
      "Variable containing:\n",
      "-2.9964\n",
      "-1.4880\n",
      "-3.0269\n",
      "-2.4195\n",
      "-0.5331\n",
      "[torch.FloatTensor of size 5]\n",
      "\n"
     ]
    }
   ],
   "source": [
    "data = autograd.Variable(torch.randn(5))\n",
    "print(data)\n",
    "print(F.softmax(data))\n",
    "print(F.softmax(data).sum())\n",
    "print(F.log_softmax(data))"
   ]
  },
  {
   "cell_type": "code",
   "execution_count": 6,
   "metadata": {},
   "outputs": [
    {
     "name": "stdout",
     "output_type": "stream",
     "text": [
      "{'me': 0, 'gusta': 1, 'comer': 2, 'en': 3, 'la': 4, 'cafeteria': 5, 'Give': 6, 'it': 7, 'to': 8, 'No': 9, 'creo': 10, 'que': 11, 'sea': 12, 'una': 13, 'buena': 14, 'idea': 15, 'is': 16, 'not': 17, 'a': 18, 'good': 19, 'get': 20, 'lost': 21, 'at': 22, 'Yo': 23, 'si': 24, 'on': 25}\n",
      "Parameter containing:\n",
      "\n",
      "Columns 0 to 9 \n",
      "-0.0810  0.1582 -0.0832 -0.1492 -0.1451  0.0097 -0.1885 -0.1633  0.0701  0.1635\n",
      "-0.1560  0.0131 -0.0337  0.1765  0.0763 -0.0027 -0.0337  0.0159 -0.1765  0.1041\n",
      "\n",
      "Columns 10 to 19 \n",
      "-0.1131  0.1610 -0.0920 -0.0789 -0.0033  0.0331 -0.1752  0.0259  0.0291  0.0447\n",
      " 0.0141 -0.1783  0.0642 -0.1412  0.0058  0.1147  0.1744 -0.1844  0.0339  0.1503\n",
      "\n",
      "Columns 20 to 25 \n",
      "-0.1386  0.1791  0.0350 -0.0938  0.0784 -0.1055\n",
      " 0.1582  0.0160 -0.1422 -0.0204 -0.1415  0.1538\n",
      "[torch.FloatTensor of size 2x26]\n",
      "\n",
      "Parameter containing:\n",
      " 0.1206\n",
      "-0.0480\n",
      "[torch.FloatTensor of size 2]\n",
      "\n",
      "Variable containing:\n",
      "-0.7957 -0.6002\n",
      "[torch.FloatTensor of size 1x2]\n",
      "\n"
     ]
    }
   ],
   "source": [
    "data = [(\"me gusta comer en la cafeteria\".split(), \"SPANISH\"),\n",
    "        (\"Give it to me\".split(), \"ENGLISH\"),\n",
    "        (\"No creo que sea una buena idea\".split(), \"SPANISH\"),\n",
    "        (\"No it is not a good idea to get lost at sea\".split(), \"ENGLISH\")]\n",
    "\n",
    "test_data = [(\"Yo creo que si\".split(), \"SPANISH\"),\n",
    "             (\"it is lost on me\".split(), \"ENGLISH\")]\n",
    "\n",
    "word2idx = {}\n",
    "for sent, _ in data + test_data:\n",
    "    for word in sent:\n",
    "        if word not in word2idx:\n",
    "            word2idx[word] = len(word2idx)\n",
    "print(word2idx)\n",
    "\n",
    "vocab_size = len(word2idx) # 26\n",
    "n_labels = 2\n",
    "\n",
    "class BowClassifier(nn.Module): # inheriting from nn.Module\n",
    "    def __init__(self, n_labels, vocab_size):\n",
    "        super(BowClassifier, self).__init__()\n",
    "        self.linear = nn.Linear(vocab_size, n_labels) # maps input from R^vocab_size(26) to R^n_labels(2)\n",
    "    \n",
    "    def forward(self, bow_vec):\n",
    "        return F.log_softmax(self.linear(bow_vec)) # shape (1, n_labels)\n",
    "\n",
    "def make_bow_vec(sent, word2idx):\n",
    "    vec = torch.zeros(len(word2idx)) # shape (vocab_size)\n",
    "    for word in sent:\n",
    "        vec[word2idx[word]] += 1\n",
    "    return vec.view(1, -1) # shape (1, vocab_size)\n",
    "\n",
    "def make_target(label, label2idx):\n",
    "    return torch.LongTensor([label2idx[label]]) # shape (1)\n",
    "\n",
    "model = BowClassifier(n_labels, vocab_size)\n",
    "\n",
    "for param in model.parameters():\n",
    "    print(param) # shape (2, 26) and (2)\n",
    "    \n",
    "sample = data[0] # (sent, label)\n",
    "bow_vec = make_bow_vec(sample[0], word2idx) # shape (1, 26)\n",
    "log_probs = model(autograd.Variable(bow_vec)) # shape (1, 2)\n",
    "print(log_probs)\n"
   ]
  },
  {
   "cell_type": "code",
   "execution_count": null,
   "metadata": {
    "collapsed": true
   },
   "outputs": [],
   "source": [
    "label2idx = {\"SPANISH\": 0, \"ENGLISH\": 1}\n",
    "\n",
    "for sent, label in test_data:\n",
    "    bow_vec = make_bow_vec(sent, word2idx)\n",
    "    log_probs = model(autograd.Variable(bow_vec))\n",
    "    print(log_probs)\n",
    "    \n",
    "print(next(model.parameters())[:, word2idx[\"creo\"]])\n",
    "\n",
    "loss = nn.NLLLoss()\n",
    "optimizer = optim.SGD(model.parameters(), lr=0.1)\n",
    "\n",
    "for epoch in range(100):\n",
    "    for sent, label in data:\n",
    "        model.zero_grad()\n",
    "        \n",
    "        bow_vec_var = autograd.Variable(make_bow_vec(sent, word2idx))\n",
    "        target_var = autograd.Variable(make_target(label, label2idx))\n",
    "        \n",
    "        "
   ]
  }
 ],
 "metadata": {
  "kernelspec": {
   "display_name": "Python 3",
   "language": "python",
   "name": "python3"
  },
  "language_info": {
   "codemirror_mode": {
    "name": "ipython",
    "version": 3
   },
   "file_extension": ".py",
   "mimetype": "text/x-python",
   "name": "python",
   "nbconvert_exporter": "python",
   "pygments_lexer": "ipython3",
   "version": "3.6.3"
  }
 },
 "nbformat": 4,
 "nbformat_minor": 2
}
